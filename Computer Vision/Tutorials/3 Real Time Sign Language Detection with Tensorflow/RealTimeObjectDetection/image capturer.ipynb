{
 "cells": [
  {
   "cell_type": "code",
   "execution_count": 2,
   "id": "48aa95a9",
   "metadata": {},
   "outputs": [],
   "source": [
    "import cv2\n",
    "import os\n",
    "import time\n",
    "import uuid # to name our image files"
   ]
  },
  {
   "cell_type": "code",
   "execution_count": 3,
   "id": "c9817e20",
   "metadata": {},
   "outputs": [],
   "source": [
    "image_path='Tensorflow\\workspace\\images\\collectedimages'"
   ]
  },
  {
   "cell_type": "code",
   "execution_count": 4,
   "id": "193cdce4",
   "metadata": {},
   "outputs": [],
   "source": [
    "labels= ['hello', 'thanks', 'yes', 'no', 'iloveyou']\n",
    "number_images= 15"
   ]
  },
  {
   "cell_type": "code",
   "execution_count": 5,
   "id": "c49deed9",
   "metadata": {},
   "outputs": [
    {
     "data": {
      "text/plain": [
       "'Tensorflow\\\\workspace\\\\images\\\\collectedimages'"
      ]
     },
     "execution_count": 5,
     "metadata": {},
     "output_type": "execute_result"
    }
   ],
   "source": [
    "os.path.join(image_path)"
   ]
  },
  {
   "cell_type": "code",
   "execution_count": 6,
   "id": "3a2f0b6a",
   "metadata": {},
   "outputs": [
    {
     "name": "stderr",
     "output_type": "stream",
     "text": [
      "'mdir' is not recognized as an internal or external command,\n",
      "operable program or batch file.\n"
     ]
    },
    {
     "name": "stdout",
     "output_type": "stream",
     "text": [
      "collecting images for hello\n"
     ]
    },
    {
     "name": "stderr",
     "output_type": "stream",
     "text": [
      "'mdir' is not recognized as an internal or external command,\n",
      "operable program or batch file.\n"
     ]
    },
    {
     "name": "stdout",
     "output_type": "stream",
     "text": [
      "collecting images for thanks\n"
     ]
    },
    {
     "name": "stderr",
     "output_type": "stream",
     "text": [
      "'mdir' is not recognized as an internal or external command,\n",
      "operable program or batch file.\n"
     ]
    },
    {
     "name": "stdout",
     "output_type": "stream",
     "text": [
      "collecting images for yes\n"
     ]
    },
    {
     "name": "stderr",
     "output_type": "stream",
     "text": [
      "'mdir' is not recognized as an internal or external command,\n",
      "operable program or batch file.\n"
     ]
    },
    {
     "name": "stdout",
     "output_type": "stream",
     "text": [
      "collecting images for no\n"
     ]
    },
    {
     "name": "stderr",
     "output_type": "stream",
     "text": [
      "'mdir' is not recognized as an internal or external command,\n",
      "operable program or batch file.\n"
     ]
    },
    {
     "name": "stdout",
     "output_type": "stream",
     "text": [
      "collecting images for iloveyou\n"
     ]
    }
   ],
   "source": [
    "for label in labels:\n",
    "    !mdir {'Tensorflow\\workspace\\images\\collectedimages\\\\'{label}} # making a foled for each lable\n",
    "    cap= cv2.VideoCapture(0) # to start our video capture, this allows us to acces our webcam, 0 is the index of the device\n",
    "    print(f'collecting images for {label}')\n",
    "    time.sleep(5)\n",
    "    for imgnum in range(number_images): # loop through collected images\n",
    "        ret, frame = cap.read() # setup our capture and specify we're interested in our frame (our image), getting the frame\n",
    "        imagename= os.path.join(image_path, label, label+'.'+f'{str(uuid.uuid1())}.jpg') # defining our image name, uuid.uuid1 to make sure each image has a unique name\n",
    "        cv2.imwrite(imagename, frame) # to go and write the image in the directory (imagename)\n",
    "        cv2.imshow('frame', frame) # to show the image to the screen\n",
    "        time.sleep(5)\n",
    "        if cv2.waitKey(1) & 0xFF == ord('q'):\n",
    "            break # to break when press q\n",
    "    cap.release() # to release our video capture"
   ]
  },
  {
   "cell_type": "code",
   "execution_count": null,
   "id": "6d55ac84",
   "metadata": {},
   "outputs": [],
   "source": []
  }
 ],
 "metadata": {
  "kernelspec": {
   "display_name": "Python 3 (ipykernel)",
   "language": "python",
   "name": "python3"
  },
  "language_info": {
   "codemirror_mode": {
    "name": "ipython",
    "version": 3
   },
   "file_extension": ".py",
   "mimetype": "text/x-python",
   "name": "python",
   "nbconvert_exporter": "python",
   "pygments_lexer": "ipython3",
   "version": "3.10.5"
  }
 },
 "nbformat": 4,
 "nbformat_minor": 5
}
